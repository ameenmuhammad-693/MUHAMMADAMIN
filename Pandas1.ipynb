{
 "cells": [
  {
   "cell_type": "code",
   "execution_count": 5,
   "id": "82b71f8c",
   "metadata": {},
   "outputs": [],
   "source": [
    "import pandas as pd\n",
    "import numpy as np"
   ]
  },
  {
   "cell_type": "markdown",
   "id": "8b8a0b32",
   "metadata": {},
   "source": [
    "## Pandas Series"
   ]
  },
  {
   "cell_type": "code",
   "execution_count": 6,
   "id": "a72c208f",
   "metadata": {},
   "outputs": [
    {
     "data": {
      "text/plain": [
       "array([1, 2, 3, 4, 5, 6])"
      ]
     },
     "execution_count": 6,
     "metadata": {},
     "output_type": "execute_result"
    }
   ],
   "source": [
    "array1 = np.array([1,2,3,4,5,6])\n",
    "array1"
   ]
  },
  {
   "cell_type": "code",
   "execution_count": 9,
   "id": "b3c56a51",
   "metadata": {},
   "outputs": [
    {
     "data": {
      "text/plain": [
       "0    1\n",
       "1    2\n",
       "2    3\n",
       "3    4\n",
       "4    5\n",
       "5    6\n",
       "dtype: int32"
      ]
     },
     "execution_count": 9,
     "metadata": {},
     "output_type": "execute_result"
    }
   ],
   "source": [
    "array2_series = pd.Series(array1)\n",
    "array2_series"
   ]
  },
  {
   "cell_type": "code",
   "execution_count": 10,
   "id": "fa29a9a4",
   "metadata": {},
   "outputs": [
    {
     "data": {
      "text/plain": [
       "pandas.core.series.Series"
      ]
     },
     "execution_count": 10,
     "metadata": {},
     "output_type": "execute_result"
    }
   ],
   "source": [
    "type(array2_series)"
   ]
  },
  {
   "cell_type": "code",
   "execution_count": 14,
   "id": "94101342",
   "metadata": {},
   "outputs": [
    {
     "data": {
      "text/plain": [
       "a    1\n",
       "b    2\n",
       "c    3\n",
       "d    4\n",
       "e    5\n",
       "1    6\n",
       "dtype: int32"
      ]
     },
     "execution_count": 14,
     "metadata": {},
     "output_type": "execute_result"
    }
   ],
   "source": [
    "series1 = pd.Series(array1, index = [\"a\",\"b\",\"c\",\"d\",\"e\",1])\n",
    "series1"
   ]
  },
  {
   "cell_type": "code",
   "execution_count": 16,
   "id": "95155cf2",
   "metadata": {},
   "outputs": [
    {
     "data": {
      "text/plain": [
       "x    1.0\n",
       "y    2.0\n",
       "c    3.0\n",
       "d    4.0\n",
       "e    5.0\n",
       "1    6.0\n",
       "dtype: float64"
      ]
     },
     "execution_count": 16,
     "metadata": {},
     "output_type": "execute_result"
    }
   ],
   "source": [
    "# Change Data type\n",
    "series2 = pd.Series(array1, index = [\"x\",\"y\",\"c\",\"d\",\"e\",1], dtype = float)\n",
    "series2"
   ]
  },
  {
   "cell_type": "code",
   "execution_count": 17,
   "id": "03412a44",
   "metadata": {},
   "outputs": [
    {
     "data": {
      "text/plain": [
       "6.0"
      ]
     },
     "execution_count": 17,
     "metadata": {},
     "output_type": "execute_result"
    }
   ],
   "source": [
    "max(series2)"
   ]
  },
  {
   "cell_type": "code",
   "execution_count": 18,
   "id": "af00fe98",
   "metadata": {},
   "outputs": [
    {
     "data": {
      "text/plain": [
       "1"
      ]
     },
     "execution_count": 18,
     "metadata": {},
     "output_type": "execute_result"
    }
   ],
   "source": [
    "min(series1)"
   ]
  },
  {
   "cell_type": "code",
   "execution_count": 21,
   "id": "2d771124",
   "metadata": {},
   "outputs": [
    {
     "data": {
      "text/plain": [
       "1    12.0\n",
       "a     NaN\n",
       "b     NaN\n",
       "c     6.0\n",
       "d     8.0\n",
       "e    10.0\n",
       "x     NaN\n",
       "y     NaN\n",
       "dtype: float64"
      ]
     },
     "execution_count": 21,
     "metadata": {},
     "output_type": "execute_result"
    }
   ],
   "source": [
    "ss = series1 + series2\n",
    "ss"
   ]
  },
  {
   "cell_type": "code",
   "execution_count": 27,
   "id": "d2015249",
   "metadata": {},
   "outputs": [
    {
     "data": {
      "text/plain": [
       "1    12.0\n",
       "c     6.0\n",
       "d     8.0\n",
       "e    10.0\n",
       "dtype: float64"
      ]
     },
     "execution_count": 27,
     "metadata": {},
     "output_type": "execute_result"
    }
   ],
   "source": [
    "nun_1 = ss[~np.isnan(ss)]\n",
    "nun_1"
   ]
  },
  {
   "cell_type": "code",
   "execution_count": 31,
   "id": "42d5da18",
   "metadata": {},
   "outputs": [
    {
     "data": {
      "text/plain": [
       "a   NaN\n",
       "b   NaN\n",
       "x   NaN\n",
       "y   NaN\n",
       "dtype: float64"
      ]
     },
     "execution_count": 31,
     "metadata": {},
     "output_type": "execute_result"
    }
   ],
   "source": [
    "nun = ss[np.isnan(ss)]\n",
    "nun"
   ]
  },
  {
   "cell_type": "markdown",
   "id": "36e848bf",
   "metadata": {},
   "source": [
    "# What is Pandas Data Frame\n",
    "Pandas DataFrame is two-dimentional, size-mutable, potentially heterogeous tabular data structure with labeled axis(rows and column)"
   ]
  },
  {
   "cell_type": "code",
   "execution_count": 34,
   "id": "745f8880",
   "metadata": {},
   "outputs": [
    {
     "name": "stdout",
     "output_type": "stream",
     "text": [
      "Empty DataFrame\n",
      "Columns: []\n",
      "Index: []\n"
     ]
    }
   ],
   "source": [
    "emt_df = pd.DataFrame()\n",
    "print(emt_df)"
   ]
  },
  {
   "cell_type": "code",
   "execution_count": 37,
   "id": "7b531072",
   "metadata": {},
   "outputs": [
    {
     "name": "stdout",
     "output_type": "stream",
     "text": [
      "[]\n"
     ]
    }
   ],
   "source": [
    "aa = np.array([])\n",
    "print(aa)"
   ]
  },
  {
   "cell_type": "code",
   "execution_count": 40,
   "id": "168afed9",
   "metadata": {},
   "outputs": [
    {
     "data": {
      "text/html": [
       "<div>\n",
       "<style scoped>\n",
       "    .dataframe tbody tr th:only-of-type {\n",
       "        vertical-align: middle;\n",
       "    }\n",
       "\n",
       "    .dataframe tbody tr th {\n",
       "        vertical-align: top;\n",
       "    }\n",
       "\n",
       "    .dataframe thead th {\n",
       "        text-align: right;\n",
       "    }\n",
       "</style>\n",
       "<table border=\"1\" class=\"dataframe\">\n",
       "  <thead>\n",
       "    <tr style=\"text-align: right;\">\n",
       "      <th></th>\n",
       "      <th>0</th>\n",
       "      <th>1</th>\n",
       "      <th>2</th>\n",
       "      <th>3</th>\n",
       "      <th>4</th>\n",
       "      <th>5</th>\n",
       "    </tr>\n",
       "  </thead>\n",
       "  <tbody>\n",
       "    <tr>\n",
       "      <th>0</th>\n",
       "      <td>1</td>\n",
       "      <td>2</td>\n",
       "      <td>3</td>\n",
       "      <td>4</td>\n",
       "      <td>5</td>\n",
       "      <td>6</td>\n",
       "    </tr>\n",
       "    <tr>\n",
       "      <th>1</th>\n",
       "      <td>1</td>\n",
       "      <td>2</td>\n",
       "      <td>3</td>\n",
       "      <td>4</td>\n",
       "      <td>5</td>\n",
       "      <td>8</td>\n",
       "    </tr>\n",
       "    <tr>\n",
       "      <th>2</th>\n",
       "      <td>2</td>\n",
       "      <td>5</td>\n",
       "      <td>8</td>\n",
       "      <td>7</td>\n",
       "      <td>4</td>\n",
       "      <td>1</td>\n",
       "    </tr>\n",
       "  </tbody>\n",
       "</table>\n",
       "</div>"
      ],
      "text/plain": [
       "   0  1  2  3  4  5\n",
       "0  1  2  3  4  5  6\n",
       "1  1  2  3  4  5  8\n",
       "2  2  5  8  7  4  1"
      ]
     },
     "execution_count": 40,
     "metadata": {},
     "output_type": "execute_result"
    }
   ],
   "source": [
    "data_1 = pd.DataFrame([[1,2,3,4,5,6],[1,2,3,4,5,8],[2,5,8,7,4,1]])\n",
    "data_1"
   ]
  },
  {
   "cell_type": "code",
   "execution_count": 42,
   "id": "61b42fae",
   "metadata": {},
   "outputs": [
    {
     "data": {
      "text/html": [
       "<div>\n",
       "<style scoped>\n",
       "    .dataframe tbody tr th:only-of-type {\n",
       "        vertical-align: middle;\n",
       "    }\n",
       "\n",
       "    .dataframe tbody tr th {\n",
       "        vertical-align: top;\n",
       "    }\n",
       "\n",
       "    .dataframe thead th {\n",
       "        text-align: right;\n",
       "    }\n",
       "</style>\n",
       "<table border=\"1\" class=\"dataframe\">\n",
       "  <thead>\n",
       "    <tr style=\"text-align: right;\">\n",
       "      <th></th>\n",
       "      <th>Column1</th>\n",
       "      <th>Special Column</th>\n",
       "    </tr>\n",
       "  </thead>\n",
       "  <tbody>\n",
       "    <tr>\n",
       "      <th>0</th>\n",
       "      <td>1</td>\n",
       "      <td>8</td>\n",
       "    </tr>\n",
       "    <tr>\n",
       "      <th>1</th>\n",
       "      <td>2</td>\n",
       "      <td>5</td>\n",
       "    </tr>\n",
       "    <tr>\n",
       "      <th>2</th>\n",
       "      <td>3</td>\n",
       "      <td>2</td>\n",
       "    </tr>\n",
       "    <tr>\n",
       "      <th>3</th>\n",
       "      <td>4</td>\n",
       "      <td>4</td>\n",
       "    </tr>\n",
       "  </tbody>\n",
       "</table>\n",
       "</div>"
      ],
      "text/plain": [
       "   Column1  Special Column\n",
       "0        1               8\n",
       "1        2               5\n",
       "2        3               2\n",
       "3        4               4"
      ]
     },
     "execution_count": 42,
     "metadata": {},
     "output_type": "execute_result"
    }
   ],
   "source": [
    "# create Pansas Data Frame by using list of Dictionaries\n",
    "data_2  = pd.DataFrame({\"Column1\":[1,2,3,4], \"Special Column\":[8,5,2,4]})\n",
    "data_2"
   ]
  },
  {
   "cell_type": "code",
   "execution_count": 46,
   "id": "2142c5a3",
   "metadata": {},
   "outputs": [
    {
     "data": {
      "text/html": [
       "<div>\n",
       "<style scoped>\n",
       "    .dataframe tbody tr th:only-of-type {\n",
       "        vertical-align: middle;\n",
       "    }\n",
       "\n",
       "    .dataframe tbody tr th {\n",
       "        vertical-align: top;\n",
       "    }\n",
       "\n",
       "    .dataframe thead th {\n",
       "        text-align: right;\n",
       "    }\n",
       "</style>\n",
       "<table border=\"1\" class=\"dataframe\">\n",
       "  <thead>\n",
       "    <tr style=\"text-align: right;\">\n",
       "      <th></th>\n",
       "      <th>ID</th>\n",
       "      <th>SN</th>\n",
       "    </tr>\n",
       "  </thead>\n",
       "  <tbody>\n",
       "    <tr>\n",
       "      <th>0</th>\n",
       "      <td>11.0</td>\n",
       "      <td>2</td>\n",
       "    </tr>\n",
       "    <tr>\n",
       "      <th>1</th>\n",
       "      <td>22.0</td>\n",
       "      <td>5</td>\n",
       "    </tr>\n",
       "    <tr>\n",
       "      <th>2</th>\n",
       "      <td>33.0</td>\n",
       "      <td>4</td>\n",
       "    </tr>\n",
       "    <tr>\n",
       "      <th>3</th>\n",
       "      <td>44.0</td>\n",
       "      <td>6</td>\n",
       "    </tr>\n",
       "    <tr>\n",
       "      <th>4</th>\n",
       "      <td>55.0</td>\n",
       "      <td>66</td>\n",
       "    </tr>\n",
       "    <tr>\n",
       "      <th>5</th>\n",
       "      <td>NaN</td>\n",
       "      <td>88</td>\n",
       "    </tr>\n",
       "  </tbody>\n",
       "</table>\n",
       "</div>"
      ],
      "text/plain": [
       "     ID  SN\n",
       "0  11.0   2\n",
       "1  22.0   5\n",
       "2  33.0   4\n",
       "3  44.0   6\n",
       "4  55.0  66\n",
       "5   NaN  88"
      ]
     },
     "execution_count": 46,
     "metadata": {},
     "output_type": "execute_result"
    }
   ],
   "source": [
    "data_3 = {\"ID\":pd.Series([11,22,33,44,55]), \"SN\":pd.Series([2,5,4,6,66,88])}\n",
    "data_4 = pd.DataFrame(data_3)\n",
    "data_4"
   ]
  },
  {
   "cell_type": "markdown",
   "id": "f166c2c9",
   "metadata": {},
   "source": [
    "# Read CSV_files"
   ]
  },
  {
   "cell_type": "code",
   "execution_count": 47,
   "id": "379702ed",
   "metadata": {},
   "outputs": [
    {
     "data": {
      "text/html": [
       "<div>\n",
       "<style scoped>\n",
       "    .dataframe tbody tr th:only-of-type {\n",
       "        vertical-align: middle;\n",
       "    }\n",
       "\n",
       "    .dataframe tbody tr th {\n",
       "        vertical-align: top;\n",
       "    }\n",
       "\n",
       "    .dataframe thead th {\n",
       "        text-align: right;\n",
       "    }\n",
       "</style>\n",
       "<table border=\"1\" class=\"dataframe\">\n",
       "  <thead>\n",
       "    <tr style=\"text-align: right;\">\n",
       "      <th></th>\n",
       "      <th>Index</th>\n",
       "      <th>Organization Id</th>\n",
       "      <th>Name</th>\n",
       "      <th>Website</th>\n",
       "      <th>Country</th>\n",
       "      <th>Description</th>\n",
       "      <th>Founded</th>\n",
       "      <th>Industry</th>\n",
       "      <th>Number of employees</th>\n",
       "    </tr>\n",
       "  </thead>\n",
       "  <tbody>\n",
       "    <tr>\n",
       "      <th>0</th>\n",
       "      <td>1</td>\n",
       "      <td>FAB0d41d5b5d22c</td>\n",
       "      <td>Ferrell LLC</td>\n",
       "      <td>https://price.net/</td>\n",
       "      <td>Papua New Guinea</td>\n",
       "      <td>Horizontal empowering knowledgebase</td>\n",
       "      <td>1990</td>\n",
       "      <td>Plastics</td>\n",
       "      <td>3498</td>\n",
       "    </tr>\n",
       "    <tr>\n",
       "      <th>1</th>\n",
       "      <td>2</td>\n",
       "      <td>6A7EdDEA9FaDC52</td>\n",
       "      <td>Mckinney, Riley and Day</td>\n",
       "      <td>http://www.hall-buchanan.info/</td>\n",
       "      <td>Finland</td>\n",
       "      <td>User-centric system-worthy leverage</td>\n",
       "      <td>2015</td>\n",
       "      <td>Glass / Ceramics / Concrete</td>\n",
       "      <td>4952</td>\n",
       "    </tr>\n",
       "    <tr>\n",
       "      <th>2</th>\n",
       "      <td>3</td>\n",
       "      <td>0bFED1ADAE4bcC1</td>\n",
       "      <td>Hester Ltd</td>\n",
       "      <td>http://sullivan-reed.com/</td>\n",
       "      <td>China</td>\n",
       "      <td>Switchable scalable moratorium</td>\n",
       "      <td>1971</td>\n",
       "      <td>Public Safety</td>\n",
       "      <td>5287</td>\n",
       "    </tr>\n",
       "    <tr>\n",
       "      <th>3</th>\n",
       "      <td>4</td>\n",
       "      <td>2bFC1Be8a4ce42f</td>\n",
       "      <td>Holder-Sellers</td>\n",
       "      <td>https://becker.com/</td>\n",
       "      <td>Turkmenistan</td>\n",
       "      <td>De-engineered systemic artificial intelligence</td>\n",
       "      <td>2004</td>\n",
       "      <td>Automotive</td>\n",
       "      <td>921</td>\n",
       "    </tr>\n",
       "    <tr>\n",
       "      <th>4</th>\n",
       "      <td>5</td>\n",
       "      <td>9eE8A6a4Eb96C24</td>\n",
       "      <td>Mayer Group</td>\n",
       "      <td>http://www.brewer.com/</td>\n",
       "      <td>Mauritius</td>\n",
       "      <td>Synchronized needs-based challenge</td>\n",
       "      <td>1991</td>\n",
       "      <td>Transportation</td>\n",
       "      <td>7870</td>\n",
       "    </tr>\n",
       "    <tr>\n",
       "      <th>...</th>\n",
       "      <td>...</td>\n",
       "      <td>...</td>\n",
       "      <td>...</td>\n",
       "      <td>...</td>\n",
       "      <td>...</td>\n",
       "      <td>...</td>\n",
       "      <td>...</td>\n",
       "      <td>...</td>\n",
       "      <td>...</td>\n",
       "    </tr>\n",
       "    <tr>\n",
       "      <th>95</th>\n",
       "      <td>96</td>\n",
       "      <td>0a0bfFbBbB8eC7c</td>\n",
       "      <td>Holmes Group</td>\n",
       "      <td>https://mcdowell.org/</td>\n",
       "      <td>Ethiopia</td>\n",
       "      <td>Right-sized zero tolerance focus group</td>\n",
       "      <td>1975</td>\n",
       "      <td>Photography</td>\n",
       "      <td>2988</td>\n",
       "    </tr>\n",
       "    <tr>\n",
       "      <th>96</th>\n",
       "      <td>97</td>\n",
       "      <td>BA6Cd9Dae2Efd62</td>\n",
       "      <td>Good Ltd</td>\n",
       "      <td>http://duffy.com/</td>\n",
       "      <td>Anguilla</td>\n",
       "      <td>Reverse-engineered composite moratorium</td>\n",
       "      <td>1971</td>\n",
       "      <td>Consumer Services</td>\n",
       "      <td>4292</td>\n",
       "    </tr>\n",
       "    <tr>\n",
       "      <th>97</th>\n",
       "      <td>98</td>\n",
       "      <td>E7df80C60Abd7f9</td>\n",
       "      <td>Clements-Espinoza</td>\n",
       "      <td>http://www.flowers.net/</td>\n",
       "      <td>Falkland Islands (Malvinas)</td>\n",
       "      <td>Progressive modular hub</td>\n",
       "      <td>1991</td>\n",
       "      <td>Broadcast Media</td>\n",
       "      <td>236</td>\n",
       "    </tr>\n",
       "    <tr>\n",
       "      <th>98</th>\n",
       "      <td>99</td>\n",
       "      <td>AFc285dbE2fEd24</td>\n",
       "      <td>Mendez Inc</td>\n",
       "      <td>https://www.burke.net/</td>\n",
       "      <td>Kyrgyz Republic</td>\n",
       "      <td>User-friendly exuding migration</td>\n",
       "      <td>1993</td>\n",
       "      <td>Education Management</td>\n",
       "      <td>339</td>\n",
       "    </tr>\n",
       "    <tr>\n",
       "      <th>99</th>\n",
       "      <td>100</td>\n",
       "      <td>e9eB5A60Cef8354</td>\n",
       "      <td>Watkins-Kaiser</td>\n",
       "      <td>http://www.herring.com/</td>\n",
       "      <td>Togo</td>\n",
       "      <td>Synergistic background access</td>\n",
       "      <td>2009</td>\n",
       "      <td>Financial Services</td>\n",
       "      <td>2785</td>\n",
       "    </tr>\n",
       "  </tbody>\n",
       "</table>\n",
       "<p>100 rows × 9 columns</p>\n",
       "</div>"
      ],
      "text/plain": [
       "    Index  Organization Id                     Name  \\\n",
       "0       1  FAB0d41d5b5d22c              Ferrell LLC   \n",
       "1       2  6A7EdDEA9FaDC52  Mckinney, Riley and Day   \n",
       "2       3  0bFED1ADAE4bcC1               Hester Ltd   \n",
       "3       4  2bFC1Be8a4ce42f           Holder-Sellers   \n",
       "4       5  9eE8A6a4Eb96C24              Mayer Group   \n",
       "..    ...              ...                      ...   \n",
       "95     96  0a0bfFbBbB8eC7c             Holmes Group   \n",
       "96     97  BA6Cd9Dae2Efd62                 Good Ltd   \n",
       "97     98  E7df80C60Abd7f9        Clements-Espinoza   \n",
       "98     99  AFc285dbE2fEd24               Mendez Inc   \n",
       "99    100  e9eB5A60Cef8354           Watkins-Kaiser   \n",
       "\n",
       "                           Website                      Country  \\\n",
       "0               https://price.net/             Papua New Guinea   \n",
       "1   http://www.hall-buchanan.info/                      Finland   \n",
       "2        http://sullivan-reed.com/                        China   \n",
       "3              https://becker.com/                 Turkmenistan   \n",
       "4           http://www.brewer.com/                    Mauritius   \n",
       "..                             ...                          ...   \n",
       "95           https://mcdowell.org/                     Ethiopia   \n",
       "96               http://duffy.com/                     Anguilla   \n",
       "97         http://www.flowers.net/  Falkland Islands (Malvinas)   \n",
       "98          https://www.burke.net/              Kyrgyz Republic   \n",
       "99         http://www.herring.com/                         Togo   \n",
       "\n",
       "                                       Description  Founded  \\\n",
       "0              Horizontal empowering knowledgebase     1990   \n",
       "1              User-centric system-worthy leverage     2015   \n",
       "2                   Switchable scalable moratorium     1971   \n",
       "3   De-engineered systemic artificial intelligence     2004   \n",
       "4               Synchronized needs-based challenge     1991   \n",
       "..                                             ...      ...   \n",
       "95          Right-sized zero tolerance focus group     1975   \n",
       "96         Reverse-engineered composite moratorium     1971   \n",
       "97                         Progressive modular hub     1991   \n",
       "98                 User-friendly exuding migration     1993   \n",
       "99                   Synergistic background access     2009   \n",
       "\n",
       "                       Industry  Number of employees  \n",
       "0                      Plastics                 3498  \n",
       "1   Glass / Ceramics / Concrete                 4952  \n",
       "2                 Public Safety                 5287  \n",
       "3                    Automotive                  921  \n",
       "4                Transportation                 7870  \n",
       "..                          ...                  ...  \n",
       "95                  Photography                 2988  \n",
       "96            Consumer Services                 4292  \n",
       "97              Broadcast Media                  236  \n",
       "98         Education Management                  339  \n",
       "99           Financial Services                 2785  \n",
       "\n",
       "[100 rows x 9 columns]"
      ]
     },
     "execution_count": 47,
     "metadata": {},
     "output_type": "execute_result"
    }
   ],
   "source": [
    "amin = pd.read_csv(\"C:\\\\Users\\\\ameen\\Music\\\\organizations-100\\\\organizations-100.csv\")\n",
    "amin"
   ]
  },
  {
   "cell_type": "code",
   "execution_count": null,
   "id": "55430819",
   "metadata": {},
   "outputs": [],
   "source": []
  }
 ],
 "metadata": {
  "kernelspec": {
   "display_name": "Python 3 (ipykernel)",
   "language": "python",
   "name": "python3"
  },
  "language_info": {
   "codemirror_mode": {
    "name": "ipython",
    "version": 3
   },
   "file_extension": ".py",
   "mimetype": "text/x-python",
   "name": "python",
   "nbconvert_exporter": "python",
   "pygments_lexer": "ipython3",
   "version": "3.10.9"
  }
 },
 "nbformat": 4,
 "nbformat_minor": 5
}
