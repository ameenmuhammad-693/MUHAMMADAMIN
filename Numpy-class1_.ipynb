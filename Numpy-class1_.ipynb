{
 "cells": [
  {
   "cell_type": "code",
   "execution_count": 2,
   "id": "af8f96cf",
   "metadata": {},
   "outputs": [],
   "source": [
    "\n",
    "import numpy as np\n"
   ]
  },
  {
   "cell_type": "markdown",
   "id": "5ba10872",
   "metadata": {},
   "source": [
    "# Numpy Pratice Task"
   ]
  },
  {
   "cell_type": "markdown",
   "id": "76315855",
   "metadata": {},
   "source": [
    "### Create array and find the dimentions"
   ]
  },
  {
   "cell_type": "code",
   "execution_count": null,
   "id": "6fe5a9ca",
   "metadata": {},
   "outputs": [],
   "source": [
    "array1d = np.array([1,2,3,4,5])\n",
    "array1d\n",
    "\n"
   ]
  },
  {
   "cell_type": "code",
   "execution_count": null,
   "id": "7b374c4a",
   "metadata": {},
   "outputs": [],
   "source": [
    "array1d.ndim"
   ]
  },
  {
   "cell_type": "markdown",
   "id": "6e483885",
   "metadata": {},
   "source": [
    "### Summission Of Array"
   ]
  },
  {
   "cell_type": "code",
   "execution_count": null,
   "id": "96a46177",
   "metadata": {},
   "outputs": [],
   "source": [
    "d = array1d + array1d\n",
    "d"
   ]
  },
  {
   "cell_type": "code",
   "execution_count": null,
   "id": "01db0547",
   "metadata": {},
   "outputs": [],
   "source": [
    "d/4"
   ]
  },
  {
   "cell_type": "markdown",
   "id": "b29ade1e",
   "metadata": {},
   "source": [
    "### Create three dimension array( note: one square bracket has one dimension)"
   ]
  },
  {
   "cell_type": "code",
   "execution_count": null,
   "id": "8ee9cfb7",
   "metadata": {},
   "outputs": [],
   "source": [
    "a = np.array([[[1,2,3,4,5]]])\n",
    "a"
   ]
  },
  {
   "cell_type": "code",
   "execution_count": null,
   "id": "1284ce1d",
   "metadata": {},
   "outputs": [],
   "source": [
    "a.ndim"
   ]
  },
  {
   "cell_type": "markdown",
   "id": "9cc39b06",
   "metadata": {},
   "source": [
    "### Numpy arange function"
   ]
  },
  {
   "cell_type": "code",
   "execution_count": null,
   "id": "d0f005ff",
   "metadata": {},
   "outputs": [],
   "source": [
    "b = np.arange(20)\n",
    "b"
   ]
  },
  {
   "cell_type": "code",
   "execution_count": null,
   "id": "6d531012",
   "metadata": {},
   "outputs": [],
   "source": [
    "c = np.arange(5,8)\n",
    "c"
   ]
  },
  {
   "cell_type": "markdown",
   "id": "2e108c53",
   "metadata": {},
   "source": [
    "### Zeros, ones, identity, => np.identity(6)"
   ]
  },
  {
   "cell_type": "code",
   "execution_count": null,
   "id": "c1b0e674",
   "metadata": {},
   "outputs": [],
   "source": [
    "d = np.zeros(6)\n",
    "d"
   ]
  },
  {
   "cell_type": "code",
   "execution_count": null,
   "id": "93d9fd8d",
   "metadata": {},
   "outputs": [],
   "source": [
    "e = np.identity(6)\n",
    "e"
   ]
  },
  {
   "cell_type": "code",
   "execution_count": null,
   "id": "414b9533",
   "metadata": {},
   "outputs": [],
   "source": [
    "f = np.ones(6)\n",
    "f"
   ]
  },
  {
   "cell_type": "markdown",
   "id": "f4acceb3",
   "metadata": {},
   "source": [
    "### numpy array matrices"
   ]
  },
  {
   "cell_type": "code",
   "execution_count": null,
   "id": "29d9fef4",
   "metadata": {},
   "outputs": [],
   "source": [
    "g = np.array([[1,2,3,4,5],[4,5,6,7,8],[1,2,3,4,5]])\n",
    "g"
   ]
  },
  {
   "cell_type": "code",
   "execution_count": null,
   "id": "84d0f828",
   "metadata": {},
   "outputs": [],
   "source": [
    "e = np.ones_like(g)\n",
    "e"
   ]
  },
  {
   "cell_type": "markdown",
   "id": "f186513e",
   "metadata": {},
   "source": [
    "### arange and reshape function"
   ]
  },
  {
   "cell_type": "code",
   "execution_count": null,
   "id": "ab14d221",
   "metadata": {},
   "outputs": [],
   "source": [
    "f = np.arange(100).reshape(10,10)\n",
    "f"
   ]
  },
  {
   "cell_type": "markdown",
   "id": "210b478e",
   "metadata": {},
   "source": [
    "### m.flatten() function"
   ]
  },
  {
   "cell_type": "code",
   "execution_count": null,
   "id": "56bc5ad7",
   "metadata": {},
   "outputs": [],
   "source": [
    "h = f.flatten()\n",
    "h"
   ]
  },
  {
   "cell_type": "markdown",
   "id": "585993ad",
   "metadata": {},
   "source": [
    "### (x) find the individual number of elements in a array"
   ]
  },
  {
   "cell_type": "code",
   "execution_count": null,
   "id": "f04c290a",
   "metadata": {},
   "outputs": [],
   "source": [
    "h[8]"
   ]
  },
  {
   "cell_type": "code",
   "execution_count": null,
   "id": "8a1ba3b5",
   "metadata": {},
   "outputs": [],
   "source": [
    "f[1]"
   ]
  },
  {
   "cell_type": "code",
   "execution_count": null,
   "id": "afaf5c13",
   "metadata": {},
   "outputs": [],
   "source": [
    "f[1,4]"
   ]
  },
  {
   "cell_type": "markdown",
   "id": "6bd2021f",
   "metadata": {},
   "source": [
    "### (xi) example arra2d > 8"
   ]
  },
  {
   "cell_type": "code",
   "execution_count": null,
   "id": "6efb6aa6",
   "metadata": {},
   "outputs": [],
   "source": [
    "g = f > 8\n",
    "g"
   ]
  },
  {
   "cell_type": "code",
   "execution_count": null,
   "id": "752e02fc",
   "metadata": {},
   "outputs": [],
   "source": [
    "h[(h > 5) & (h%2 == 0)]"
   ]
  },
  {
   "cell_type": "code",
   "execution_count": null,
   "id": "17501eea",
   "metadata": {},
   "outputs": [],
   "source": [
    "k = np.random.randint(10 , size = (10,8))\n",
    "k"
   ]
  },
  {
   "cell_type": "code",
   "execution_count": null,
   "id": "bae9072d",
   "metadata": {},
   "outputs": [],
   "source": [
    "k[0:1 , 0:] = k[9:10, 0:] = k[0:, 0:1] = k[0:, 7:8] = 0\n",
    "k"
   ]
  },
  {
   "cell_type": "code",
   "execution_count": 3,
   "id": "88ceb143",
   "metadata": {},
   "outputs": [
    {
     "data": {
      "text/plain": [
       "array([[0, 9, 1, 2, 9, 1, 2, 4],\n",
       "       [8, 3, 4, 6, 7, 8, 9, 1],\n",
       "       [9, 3, 5, 6, 2, 2, 4, 3],\n",
       "       [4, 7, 6, 8, 9, 1, 9, 9],\n",
       "       [5, 9, 7, 7, 6, 1, 5, 6],\n",
       "       [3, 4, 9, 9, 9, 5, 1, 2],\n",
       "       [0, 9, 6, 8, 5, 1, 5, 7],\n",
       "       [4, 2, 4, 6, 4, 9, 6, 3],\n",
       "       [7, 5, 9, 7, 4, 5, 0, 6]])"
      ]
     },
     "execution_count": 3,
     "metadata": {},
     "output_type": "execute_result"
    }
   ],
   "source": [
    "i = np.random.randint(10, size = (9,8))\n",
    "i"
   ]
  },
  {
   "cell_type": "code",
   "execution_count": 4,
   "id": "b59bc0a1",
   "metadata": {},
   "outputs": [
    {
     "data": {
      "text/plain": [
       "array([[0, 0, 0, 0, 0, 0, 0, 0],\n",
       "       [0, 3, 4, 6, 7, 8, 9, 0],\n",
       "       [0, 3, 5, 6, 2, 2, 4, 0],\n",
       "       [0, 7, 6, 8, 9, 1, 9, 0],\n",
       "       [0, 9, 7, 7, 6, 1, 5, 0],\n",
       "       [0, 4, 9, 9, 9, 5, 1, 0],\n",
       "       [0, 9, 6, 8, 5, 1, 5, 0],\n",
       "       [0, 2, 4, 6, 4, 9, 6, 0],\n",
       "       [0, 0, 0, 0, 0, 0, 0, 0]])"
      ]
     },
     "execution_count": 4,
     "metadata": {},
     "output_type": "execute_result"
    }
   ],
   "source": [
    "i[0:1 , :] = i[8:9, :] = i[: , 0:1] = i[:, 7:8] = 0\n",
    "i"
   ]
  },
  {
   "cell_type": "markdown",
   "id": "ce9d4865",
   "metadata": {},
   "source": [
    "## Array Attributes"
   ]
  },
  {
   "cell_type": "code",
   "execution_count": 10,
   "id": "6418fd78",
   "metadata": {},
   "outputs": [
    {
     "data": {
      "text/plain": [
       "array([[[0, 1],\n",
       "        [2, 3]],\n",
       "\n",
       "       [[4, 5],\n",
       "        [6, 7]]])"
      ]
     },
     "execution_count": 10,
     "metadata": {},
     "output_type": "execute_result"
    }
   ],
   "source": [
    "a = np.arange(8).reshape(2,2,2)\n",
    "a"
   ]
  },
  {
   "cell_type": "code",
   "execution_count": 12,
   "id": "2672f1f3",
   "metadata": {},
   "outputs": [
    {
     "data": {
      "text/plain": [
       "3"
      ]
     },
     "execution_count": 12,
     "metadata": {},
     "output_type": "execute_result"
    }
   ],
   "source": [
    "a.ndim"
   ]
  },
  {
   "cell_type": "code",
   "execution_count": 13,
   "id": "0685e5bf",
   "metadata": {},
   "outputs": [
    {
     "name": "stdout",
     "output_type": "stream",
     "text": [
      "(2, 2, 2)\n"
     ]
    }
   ],
   "source": [
    "print(a.shape)"
   ]
  },
  {
   "cell_type": "code",
   "execution_count": 14,
   "id": "bb0b3b3d",
   "metadata": {},
   "outputs": [
    {
     "data": {
      "text/plain": [
       "4"
      ]
     },
     "execution_count": 14,
     "metadata": {},
     "output_type": "execute_result"
    }
   ],
   "source": [
    "# itemsize how many bytes a single value occupied\n",
    "a.itemsize"
   ]
  },
  {
   "cell_type": "code",
   "execution_count": 15,
   "id": "add42f11",
   "metadata": {},
   "outputs": [
    {
     "name": "stdout",
     "output_type": "stream",
     "text": [
      "int32\n"
     ]
    }
   ],
   "source": [
    "# dtype or data type \n",
    "print(a.dtype)"
   ]
  },
  {
   "cell_type": "code",
   "execution_count": 18,
   "id": "a3b05e9a",
   "metadata": {},
   "outputs": [
    {
     "data": {
      "text/plain": [
       "array([[0.65272472, 0.45632824, 0.19766125, 0.51164453, 0.49579573],\n",
       "       [0.75818662, 0.34558923, 0.32474279, 0.60567247, 0.17952328],\n",
       "       [0.77074375, 0.52839243, 0.42433611, 0.40425653, 0.27826263]])"
      ]
     },
     "execution_count": 18,
     "metadata": {},
     "output_type": "execute_result"
    }
   ],
   "source": [
    "## array function\n",
    "b = np.random.random((3,5))\n",
    "b"
   ]
  },
  {
   "cell_type": "code",
   "execution_count": 21,
   "id": "9afe2b37",
   "metadata": {},
   "outputs": [
    {
     "data": {
      "text/plain": [
       "array([[11, 12, 14,  8,  7],\n",
       "       [ 5,  4,  4,  7,  2],\n",
       "       [ 4,  8, 10,  9,  4]])"
      ]
     },
     "execution_count": 21,
     "metadata": {},
     "output_type": "execute_result"
    }
   ],
   "source": [
    "c = np.random.randint(15, size = (3,5))\n",
    "c"
   ]
  },
  {
   "cell_type": "code",
   "execution_count": 30,
   "id": "ba40244c",
   "metadata": {},
   "outputs": [
    {
     "data": {
      "text/plain": [
       "array([20, 24, 28, 24, 13])"
      ]
     },
     "execution_count": 30,
     "metadata": {},
     "output_type": "execute_result"
    }
   ],
   "source": [
    "# max/min/sum/prod\n",
    "# 0 -> col and 1 -> row\n",
    "d = np.prod(c, axis = 0)\n",
    "d\n",
    "np.max(c, axis = 0)\n",
    "np.min(c, axis = 0)\n",
    "np.sum(c, axis = 0)"
   ]
  },
  {
   "cell_type": "code",
   "execution_count": 25,
   "id": "23533ddb",
   "metadata": {},
   "outputs": [
    {
     "data": {
      "text/plain": [
       "array([6.64, 2.64, 6.4 ])"
      ]
     },
     "execution_count": 25,
     "metadata": {},
     "output_type": "execute_result"
    }
   ],
   "source": [
    "# mean/median/std/var\n",
    "e = np.var(c, axis = 1)\n",
    "e"
   ]
  },
  {
   "cell_type": "code",
   "execution_count": 31,
   "id": "1ddec1ea",
   "metadata": {},
   "outputs": [
    {
     "data": {
      "text/plain": [
       "array([10.4,  4.4,  7. ])"
      ]
     },
     "execution_count": 31,
     "metadata": {},
     "output_type": "execute_result"
    }
   ],
   "source": [
    "e = np.std(c, axis = 0)\n",
    "e\n",
    "np.mean(c, axis = 1)"
   ]
  },
  {
   "cell_type": "code",
   "execution_count": 32,
   "id": "cf15e102",
   "metadata": {},
   "outputs": [
    {
     "data": {
      "text/plain": [
       "array([[-0.99999021, -0.53657292,  0.99060736,  0.98935825,  0.6569866 ],\n",
       "       [-0.95892427, -0.7568025 , -0.7568025 ,  0.6569866 ,  0.90929743],\n",
       "       [-0.7568025 ,  0.98935825, -0.54402111,  0.41211849, -0.7568025 ]])"
      ]
     },
     "execution_count": 32,
     "metadata": {},
     "output_type": "execute_result"
    }
   ],
   "source": [
    "# Trignometric Function\n",
    "np.sin(c)"
   ]
  },
  {
   "cell_type": "code",
   "execution_count": 36,
   "id": "14384e71",
   "metadata": {},
   "outputs": [
    {
     "data": {
      "text/plain": [
       "array([[ 150,  160,  170,  180,  190],\n",
       "       [ 400,  435,  470,  505,  540],\n",
       "       [ 650,  710,  770,  830,  890],\n",
       "       [ 900,  985, 1070, 1155, 1240]])"
      ]
     },
     "execution_count": 36,
     "metadata": {},
     "output_type": "execute_result"
    }
   ],
   "source": [
    "## Dot Product\n",
    "a = np.arange(20).reshape(4,5)\n",
    "b = np.arange(25).reshape(5,5)\n",
    "np.dot(a,b)"
   ]
  },
  {
   "cell_type": "markdown",
   "id": "b93306cb",
   "metadata": {},
   "source": [
    "## log and Exponent"
   ]
  },
  {
   "cell_type": "code",
   "execution_count": 37,
   "id": "2abf7002",
   "metadata": {},
   "outputs": [
    {
     "data": {
      "text/plain": [
       "array([[2.39789527, 2.48490665, 2.63905733, 2.07944154, 1.94591015],\n",
       "       [1.60943791, 1.38629436, 1.38629436, 1.94591015, 0.69314718],\n",
       "       [1.38629436, 2.07944154, 2.30258509, 2.19722458, 1.38629436]])"
      ]
     },
     "execution_count": 37,
     "metadata": {},
     "output_type": "execute_result"
    }
   ],
   "source": [
    "np.log(c)"
   ]
  },
  {
   "cell_type": "code",
   "execution_count": 38,
   "id": "a09c335e",
   "metadata": {},
   "outputs": [
    {
     "data": {
      "text/plain": [
       "array([[5.98741417e+04, 1.62754791e+05, 1.20260428e+06, 2.98095799e+03,\n",
       "        1.09663316e+03],\n",
       "       [1.48413159e+02, 5.45981500e+01, 5.45981500e+01, 1.09663316e+03,\n",
       "        7.38905610e+00],\n",
       "       [5.45981500e+01, 2.98095799e+03, 2.20264658e+04, 8.10308393e+03,\n",
       "        5.45981500e+01]])"
      ]
     },
     "execution_count": 38,
     "metadata": {},
     "output_type": "execute_result"
    }
   ],
   "source": [
    "np.exp(c)"
   ]
  },
  {
   "cell_type": "markdown",
   "id": "0a1c69f9",
   "metadata": {},
   "source": [
    "## iteration"
   ]
  },
  {
   "cell_type": "code",
   "execution_count": 41,
   "id": "40a76d3a",
   "metadata": {},
   "outputs": [
    {
     "name": "stdout",
     "output_type": "stream",
     "text": [
      "[11 12 14  8  7]\n",
      "[5 4 4 7 2]\n",
      "[ 4  8 10  9  4]\n"
     ]
    }
   ],
   "source": [
    "for i in c:\n",
    "    print(i)\n"
   ]
  },
  {
   "cell_type": "markdown",
   "id": "9f14e860",
   "metadata": {},
   "source": [
    "## Transpose"
   ]
  },
  {
   "cell_type": "code",
   "execution_count": 42,
   "id": "76ba6091",
   "metadata": {},
   "outputs": [
    {
     "data": {
      "text/plain": [
       "array([[11,  5,  4],\n",
       "       [12,  4,  8],\n",
       "       [14,  4, 10],\n",
       "       [ 8,  7,  9],\n",
       "       [ 7,  2,  4]])"
      ]
     },
     "execution_count": 42,
     "metadata": {},
     "output_type": "execute_result"
    }
   ],
   "source": [
    "np.transpose(c)"
   ]
  },
  {
   "cell_type": "code",
   "execution_count": 43,
   "id": "d1f315e6",
   "metadata": {},
   "outputs": [
    {
     "data": {
      "text/plain": [
       "array([11, 12, 14,  8,  7,  5,  4,  4,  7,  2,  4,  8, 10,  9,  4])"
      ]
     },
     "execution_count": 43,
     "metadata": {},
     "output_type": "execute_result"
    }
   ],
   "source": [
    "# ravel and flaten are both same\n",
    "c.ravel()"
   ]
  },
  {
   "cell_type": "markdown",
   "id": "aa3055d5",
   "metadata": {},
   "source": [
    "## Horizontal and Vertical Stacking"
   ]
  },
  {
   "cell_type": "code",
   "execution_count": 48,
   "id": "9671600d",
   "metadata": {},
   "outputs": [
    {
     "data": {
      "text/plain": [
       "array([[ 2, 25, 28, 27, 14,  2, 22,  2, 15, 16, 10, 33, 34, 30, 37],\n",
       "       [13, 20,  7,  4, 20,  1,  1,  8, 17, 26, 20,  0, 27,  6, 40],\n",
       "       [ 0, 22, 13, 22, 14, 16,  1,  2, 44, 17, 34, 30, 41, 17,  3],\n",
       "       [ 8, 23, 15, 13,  6, 15, 20, 44,  2, 37, 10, 15,  5, 38, 12],\n",
       "       [14,  8, 17,  4, 26, 28, 27, 21, 24, 33, 14, 17,  1, 18, 34]])"
      ]
     },
     "execution_count": 48,
     "metadata": {},
     "output_type": "execute_result"
    }
   ],
   "source": [
    "a = np.random.randint(30, size = (5,6))\n",
    "b = np.random.randint(45, size = (5,9))\n",
    "\n",
    "np.hstack((a,b))"
   ]
  },
  {
   "cell_type": "code",
   "execution_count": 49,
   "id": "e572d615",
   "metadata": {},
   "outputs": [
    {
     "ename": "ValueError",
     "evalue": "all the input array dimensions for the concatenation axis must match exactly, but along dimension 1, the array at index 0 has size 6 and the array at index 1 has size 9",
     "output_type": "error",
     "traceback": [
      "\u001b[1;31m---------------------------------------------------------------------------\u001b[0m",
      "\u001b[1;31mValueError\u001b[0m                                Traceback (most recent call last)",
      "Cell \u001b[1;32mIn[49], line 1\u001b[0m\n\u001b[1;32m----> 1\u001b[0m \u001b[43mnp\u001b[49m\u001b[38;5;241;43m.\u001b[39;49m\u001b[43mvstack\u001b[49m\u001b[43m(\u001b[49m\u001b[43m(\u001b[49m\u001b[43ma\u001b[49m\u001b[43m,\u001b[49m\u001b[43mb\u001b[49m\u001b[43m)\u001b[49m\u001b[43m)\u001b[49m\n",
      "File \u001b[1;32m<__array_function__ internals>:180\u001b[0m, in \u001b[0;36mvstack\u001b[1;34m(*args, **kwargs)\u001b[0m\n",
      "File \u001b[1;32m~\\AppData\\Local\\anaconda3\\lib\\site-packages\\numpy\\core\\shape_base.py:282\u001b[0m, in \u001b[0;36mvstack\u001b[1;34m(tup)\u001b[0m\n\u001b[0;32m    280\u001b[0m \u001b[38;5;28;01mif\u001b[39;00m \u001b[38;5;129;01mnot\u001b[39;00m \u001b[38;5;28misinstance\u001b[39m(arrs, \u001b[38;5;28mlist\u001b[39m):\n\u001b[0;32m    281\u001b[0m     arrs \u001b[38;5;241m=\u001b[39m [arrs]\n\u001b[1;32m--> 282\u001b[0m \u001b[38;5;28;01mreturn\u001b[39;00m \u001b[43m_nx\u001b[49m\u001b[38;5;241;43m.\u001b[39;49m\u001b[43mconcatenate\u001b[49m\u001b[43m(\u001b[49m\u001b[43marrs\u001b[49m\u001b[43m,\u001b[49m\u001b[43m \u001b[49m\u001b[38;5;241;43m0\u001b[39;49m\u001b[43m)\u001b[49m\n",
      "File \u001b[1;32m<__array_function__ internals>:180\u001b[0m, in \u001b[0;36mconcatenate\u001b[1;34m(*args, **kwargs)\u001b[0m\n",
      "\u001b[1;31mValueError\u001b[0m: all the input array dimensions for the concatenation axis must match exactly, but along dimension 1, the array at index 0 has size 6 and the array at index 1 has size 9"
     ]
    }
   ],
   "source": [
    "a = np.random.randint(30, size = (5,6))\n",
    "b = np.random.randint(45, size = (5,9))\n",
    "np.vstack((a,b))"
   ]
  },
  {
   "cell_type": "code",
   "execution_count": 51,
   "id": "166f1ed8",
   "metadata": {},
   "outputs": [
    {
     "data": {
      "text/plain": [
       "array([[ 2, 25, 28, 27, 14,  2],\n",
       "       [13, 20,  7,  4, 20,  1],\n",
       "       [ 0, 22, 13, 22, 14, 16],\n",
       "       [ 8, 23, 15, 13,  6, 15],\n",
       "       [14,  8, 17,  4, 26, 28]])"
      ]
     },
     "execution_count": 51,
     "metadata": {},
     "output_type": "execute_result"
    }
   ],
   "source": [
    "a"
   ]
  },
  {
   "cell_type": "markdown",
   "id": "a12d2ef6",
   "metadata": {},
   "source": [
    "## Horizontal and Vertical Spliting"
   ]
  },
  {
   "cell_type": "code",
   "execution_count": 60,
   "id": "a811198a",
   "metadata": {},
   "outputs": [
    {
     "data": {
      "text/plain": [
       "[array([[ 2, 25],\n",
       "        [13, 20],\n",
       "        [ 0, 22],\n",
       "        [ 8, 23],\n",
       "        [14,  8]]),\n",
       " array([[28, 27],\n",
       "        [ 7,  4],\n",
       "        [13, 22],\n",
       "        [15, 13],\n",
       "        [17,  4]]),\n",
       " array([[14,  2],\n",
       "        [20,  1],\n",
       "        [14, 16],\n",
       "        [ 6, 15],\n",
       "        [26, 28]])]"
      ]
     },
     "execution_count": 60,
     "metadata": {},
     "output_type": "execute_result"
    }
   ],
   "source": [
    "np.hsplit(a,3)"
   ]
  },
  {
   "cell_type": "code",
   "execution_count": 55,
   "id": "8aee2248",
   "metadata": {},
   "outputs": [
    {
     "data": {
      "text/plain": [
       "[array([[ 2, 25, 28, 27, 14,  2]]),\n",
       " array([[13, 20,  7,  4, 20,  1]]),\n",
       " array([[ 0, 22, 13, 22, 14, 16]]),\n",
       " array([[ 8, 23, 15, 13,  6, 15]]),\n",
       " array([[14,  8, 17,  4, 26, 28]])]"
      ]
     },
     "execution_count": 55,
     "metadata": {},
     "output_type": "execute_result"
    }
   ],
   "source": [
    "np.vsplit(a,5)"
   ]
  },
  {
   "cell_type": "markdown",
   "id": "8d95c874",
   "metadata": {},
   "source": [
    "## Memory"
   ]
  },
  {
   "cell_type": "code",
   "execution_count": 63,
   "id": "d1303cd5",
   "metadata": {},
   "outputs": [
    {
     "data": {
      "text/plain": [
       "248"
      ]
     },
     "execution_count": 63,
     "metadata": {},
     "output_type": "execute_result"
    }
   ],
   "source": [
    "import sys\n",
    "sys.getsizeof(a)"
   ]
  },
  {
   "cell_type": "markdown",
   "id": "ad7867a9",
   "metadata": {},
   "source": [
    "## Find alll numbers greater than 50 and also find the even numbers "
   ]
  },
  {
   "cell_type": "code",
   "execution_count": 64,
   "id": "6dc5d17c",
   "metadata": {},
   "outputs": [
    {
     "data": {
      "text/plain": [
       "array([25, 28, 27, 20, 20, 22, 22, 16, 23, 17, 26, 28])"
      ]
     },
     "execution_count": 64,
     "metadata": {},
     "output_type": "execute_result"
    }
   ],
   "source": [
    "a[a>15]"
   ]
  },
  {
   "cell_type": "code",
   "execution_count": 66,
   "id": "631a2fbf",
   "metadata": {},
   "outputs": [
    {
     "data": {
      "text/plain": [
       "array([ 2, 28, 14,  2, 20,  4, 20,  0, 22, 22, 14, 16,  8,  6, 14,  8,  4,\n",
       "       26, 28])"
      ]
     },
     "execution_count": 66,
     "metadata": {},
     "output_type": "execute_result"
    }
   ],
   "source": [
    "a[ a%2 == 0]"
   ]
  },
  {
   "cell_type": "code",
   "execution_count": 67,
   "id": "3a967674",
   "metadata": {},
   "outputs": [
    {
     "data": {
      "text/plain": [
       "array([28, 14,  7,  0, 14, 14, 28])"
      ]
     },
     "execution_count": 67,
     "metadata": {},
     "output_type": "execute_result"
    }
   ],
   "source": [
    "# find the numbes divisible and not divisible by 7\n",
    "a[ a%7 == 0]"
   ]
  },
  {
   "cell_type": "code",
   "execution_count": 68,
   "id": "4a1f113e",
   "metadata": {},
   "outputs": [
    {
     "data": {
      "text/plain": [
       "array([ 2, 25, 27,  2, 13, 20,  4, 20,  1, 22, 13, 22, 16,  8, 23, 15, 13,\n",
       "        6, 15,  8, 17,  4, 26])"
      ]
     },
     "execution_count": 68,
     "metadata": {},
     "output_type": "execute_result"
    }
   ],
   "source": [
    "a[~(a%7 == 0)]"
   ]
  },
  {
   "cell_type": "markdown",
   "id": "1368d6aa",
   "metadata": {},
   "source": [
    "### Broadcasting\n",
    "\n",
    "The term broadcasting describes how NumPy treats arrays with different shapes during arithmetic operations.\n",
    "\n",
    "The smaller array is “broadcast” across the larger array so that they have compatible shapes."
   ]
  },
  {
   "cell_type": "code",
   "execution_count": 70,
   "id": "5a351017",
   "metadata": {},
   "outputs": [
    {
     "name": "stdout",
     "output_type": "stream",
     "text": [
      "[[ 56  59  62  65]\n",
      " [200 212 224 236]\n",
      " [344 365 386 407]\n",
      " [488 518 548 578]]\n"
     ]
    }
   ],
   "source": [
    "# Matrix multiplication if shapes are different\n",
    "a = np.arange(12).reshape(4,3)\n",
    "b = np.arange(12,24).reshape(3,4)\n",
    "#print(a)\n",
    "#print(b)\n",
    "# a * b\n",
    "print(a@b)"
   ]
  },
  {
   "cell_type": "code",
   "execution_count": 71,
   "id": "5ac737f3",
   "metadata": {},
   "outputs": [
    {
     "data": {
      "text/plain": [
       "array([[ 0,  1,  2],\n",
       "       [ 3,  4,  5],\n",
       "       [ 6,  7,  8],\n",
       "       [ 9, 10, 11]])"
      ]
     },
     "execution_count": 71,
     "metadata": {},
     "output_type": "execute_result"
    }
   ],
   "source": [
    "a"
   ]
  },
  {
   "cell_type": "code",
   "execution_count": 72,
   "id": "93a30767",
   "metadata": {},
   "outputs": [
    {
     "data": {
      "text/plain": [
       "array([[12, 13, 14, 15],\n",
       "       [16, 17, 18, 19],\n",
       "       [20, 21, 22, 23]])"
      ]
     },
     "execution_count": 72,
     "metadata": {},
     "output_type": "execute_result"
    }
   ],
   "source": [
    "b"
   ]
  },
  {
   "cell_type": "markdown",
   "id": "558e1704",
   "metadata": {},
   "source": [
    "#### Broadcasting Rules\n",
    "\n",
    "**1. Make the two arrays have the same number of dimensions.**<br>\n",
    "- If the numbers of dimensions of the two arrays are different, add new dimensions with size 1 to the head of the array with the smaller dimension.<br>"
   ]
  },
  {
   "cell_type": "markdown",
   "id": "71ceb999",
   "metadata": {},
   "source": [
    "**2. Make each dimension of the two arrays the same size.**<br>\n",
    "- If the sizes of each dimension of the two arrays do not match, dimensions with size 1 are stretched to the size of the other array.\n",
    "- If there is a dimension whose size is not 1 in either of the two arrays, it cannot be broadcasted, and an error is raised."
   ]
  },
  {
   "cell_type": "markdown",
   "id": "8615ccdc",
   "metadata": {},
   "source": [
    "<img src = \"https://jakevdp.github.io/PythonDataScienceHandbook/figures/02.05-broadcasting.png\">"
   ]
  },
  {
   "cell_type": "code",
   "execution_count": 74,
   "id": "1bf31373",
   "metadata": {},
   "outputs": [
    {
     "name": "stdout",
     "output_type": "stream",
     "text": [
      "[[ 0  1  2]\n",
      " [ 3  4  5]\n",
      " [ 6  7  8]\n",
      " [ 9 10 11]]\n",
      "[0 1 2]\n",
      "[[ 0  2  4]\n",
      " [ 3  5  7]\n",
      " [ 6  8 10]\n",
      " [ 9 11 13]]\n"
     ]
    }
   ],
   "source": [
    "# More examples\n",
    "\n",
    "a = np.arange(12).reshape(4,3)\n",
    "b = np.arange(3)\n",
    "\n",
    "print(a)\n",
    "print(b)\n",
    "\n",
    "print(a+b)"
   ]
  },
  {
   "cell_type": "code",
   "execution_count": null,
   "id": "018512c0",
   "metadata": {},
   "outputs": [],
   "source": []
  }
 ],
 "metadata": {
  "kernelspec": {
   "display_name": "Python 3 (ipykernel)",
   "language": "python",
   "name": "python3"
  },
  "language_info": {
   "codemirror_mode": {
    "name": "ipython",
    "version": 3
   },
   "file_extension": ".py",
   "mimetype": "text/x-python",
   "name": "python",
   "nbconvert_exporter": "python",
   "pygments_lexer": "ipython3",
   "version": "3.10.9"
  }
 },
 "nbformat": 4,
 "nbformat_minor": 5
}
